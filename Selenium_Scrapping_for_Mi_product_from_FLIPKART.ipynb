{
  "nbformat": 4,
  "nbformat_minor": 0,
  "metadata": {
    "kernelspec": {
      "display_name": "Python 3",
      "language": "python",
      "name": "python3"
    },
    "language_info": {
      "codemirror_mode": {
        "name": "ipython",
        "version": 3
      },
      "file_extension": ".py",
      "mimetype": "text/x-python",
      "name": "python",
      "nbconvert_exporter": "python",
      "pygments_lexer": "ipython3",
      "version": "3.6.5"
    },
    "colab": {
      "name": "Selenium Scrapping for Mi product from FLIPKART.ipynb",
      "provenance": [],
      "include_colab_link": true
    }
  },
  "cells": [
    {
      "cell_type": "markdown",
      "metadata": {
        "id": "view-in-github",
        "colab_type": "text"
      },
      "source": [
        "<a href=\"https://colab.research.google.com/github/harsha-bsm/Applying-SVD-and-SGD-topredict-User-rating-in-sample-Recommendation-Data/blob/master/Selenium_Scrapping_for_Mi_product_from_FLIPKART.ipynb\" target=\"_parent\"><img src=\"https://colab.research.google.com/assets/colab-badge.svg\" alt=\"Open In Colab\"/></a>"
      ]
    },
    {
      "cell_type": "code",
      "metadata": {
        "id": "JNqLa--AX63V",
        "colab_type": "code",
        "colab": {}
      },
      "source": [
        "import requests as re\n",
        "import pandas as pd\n",
        "from bs4 import BeautifulSoup\n",
        "import re as regex\n"
      ],
      "execution_count": null,
      "outputs": []
    },
    {
      "cell_type": "code",
      "metadata": {
        "id": "XHnMJyMrX63f",
        "colab_type": "code",
        "colab": {}
      },
      "source": [
        "from selenium import webdriver\n",
        "\n",
        "#url=\"https://www.flipkart.com/samsung-galaxy-m30s-blue-128-gb/product-reviews/itm79f7239a3b086?pid=MOBFSHFBFGNWPSXF&lid=LSTMOBFSHFBFGNWPSXF514GKR&marketplace=FLIPKART&page=1\"\n",
        "#driver = webdriver.Chrome(\"C:/Users/Dell/Downloads/chromedriver_win32/chromedriver\")\n",
        "#driver.get(url)"
      ],
      "execution_count": null,
      "outputs": []
    },
    {
      "cell_type": "code",
      "metadata": {
        "id": "6xPiQKd_X63i",
        "colab_type": "code",
        "colab": {},
        "outputId": "f17572f2-7c08-479f-e496-39bb9ce0771f"
      },
      "source": [
        "driver.title"
      ],
      "execution_count": null,
      "outputs": [
        {
          "output_type": "execute_result",
          "data": {
            "text/plain": [
              "'Samsung Galaxy M30s Blue 128 Gb Reviews: Latest Review of Samsung Galaxy M30s Blue 128 Gb | Price in India | Flipkart.com'"
            ]
          },
          "metadata": {
            "tags": []
          },
          "execution_count": 45
        }
      ]
    },
    {
      "cell_type": "code",
      "metadata": {
        "id": "iuD8cUW4X63p",
        "colab_type": "code",
        "colab": {},
        "outputId": "fe3de20d-5a7d-4465-afbe-c5db62f9f266"
      },
      "source": [
        "#click readmore\n",
        "# click radio button\n",
        "read_more = driver.find_elements_by_class_name(\"_1EPkIx\")\n",
        "read_more"
      ],
      "execution_count": null,
      "outputs": [
        {
          "output_type": "execute_result",
          "data": {
            "text/plain": [
              "[<selenium.webdriver.remote.webelement.WebElement (session=\"b6017e27c7fe143638ebbb3be85e0530\", element=\"525e0816-3ad6-4cde-8543-cf7992fa52cc\")>,\n",
              " <selenium.webdriver.remote.webelement.WebElement (session=\"b6017e27c7fe143638ebbb3be85e0530\", element=\"390eaabb-24ba-49cd-9b5f-6b68bfd27812\")>]"
            ]
          },
          "metadata": {
            "tags": []
          },
          "execution_count": 47
        }
      ]
    },
    {
      "cell_type": "code",
      "metadata": {
        "id": "0erfawyFX63s",
        "colab_type": "code",
        "colab": {}
      },
      "source": [
        "import time\n",
        "for i in read_more:\n",
        "    \n",
        "    time.sleep(5)\n",
        "    i.click()\n",
        "    "
      ],
      "execution_count": null,
      "outputs": []
    },
    {
      "cell_type": "code",
      "metadata": {
        "id": "CsBWaDA3X63w",
        "colab_type": "code",
        "colab": {}
      },
      "source": [
        "data=pd.DataFrame(columns={\"Model\",\"title\",\"review\",\"rating\",\"user\",\"time_of_review\"})\n",
        "review_1=[]\n",
        "title_1=[]\n",
        "rating_1=[]\n",
        "user_1=[]\n",
        "time1=[]\n",
        "user_address=[]\n",
        "model=[]\n",
        "#url=\"https://www.flipkart.com/samsung-galaxy-m30s-blue-128-gb/product-reviews/itm79f7239a3b086?pid=MOBFSHFBFGNWPSXF&lid=LSTMOBFSHFBFGNWPSXF514GKR&marketplace=FLIPKART\"\n",
        "#driver = webdriver.Chrome(\"C:/Users/Dell/Downloads/chromedriver_win32/chromedriver\")\n",
        "\n",
        "url=\"https://www.flipkart.com/samsung-galaxy-m30s-blue-128-gb/product-reviews/itm79f7239a3b086?pid=MOBFSHFBFGNWPSXF&lid=LSTMOBFSHFBFGNWPSXF514GKR&marketplace=FLIPKART\"\n",
        "driver = webdriver.Chrome(\"C:/Users/Dell/Downloads/chromedriver_win32/chromedriver\")\n",
        "driver.get(url)\n",
        "html=driver.page_source\n",
        "soup=BeautifulSoup(html,\"lxml\")\n",
        "parent=soup.find( attrs={\"class\":\"_1ypTlJ\"})\n",
        "lastpage=int(parent.find_parent().span.text.split(\" \")[-1]) \n",
        "\n",
        "#for j in range(1,lastpage+1):\n",
        "    url=\"https://www.flipkart.com/samsung-galaxy-m30s-blue-128-gb/product-reviews/itm79f7239a3b086?pid=MOBFSHFBFGNWPSXF&lid=LSTMOBFSHFBFGNWPSXF514GKR&marketplace=FLIPKART&page=\"\n",
        "    url_fin=url+str(j)\n",
        "    driver.get(url_fin)\n",
        "    try:\n",
        "        read_more = driver.find_elements_by_class_name(\"_1EPkIx\")\n",
        "        for i in read_more:\n",
        "            time.sleep(10)\n",
        "            i.click()\n",
        "    except:\n",
        "        pass\n",
        "        \n",
        "    html=driver.page_source\n",
        "    soup=BeautifulSoup(html,\"lxml\")\n",
        "    review=soup.find_all(attrs={\"class\":\"qwjRop\"})\n",
        "    title=soup.find_all(\"p\",attrs={\"class\":\"_2xg6Ul\"})\n",
        "    user=soup.find_all(\"p\",attrs={\"class\":\"_3LYOAd _3sxSiS\"})\n",
        "    rating=soup.find_all(attrs={\"class\":\"hGSR34 E_uFuv\"})\n",
        "    address=soup.find_all(attrs={\"class\":\"_19inI8\"})\n",
        "    timer=soup.find_all(attrs={\"class\":\"_3LYOAd\"})[1::2]\n",
        "    timelapse=np.random.randint(15,20)\n",
        "    time.sleep(timelapse)\n",
        "    product=driver.title\n",
        "    try:\n",
        "        nextpage = driver.find_elements_by_class_name(\"_3fVaIS\")\n",
        "        timelapse=np.random.randint(5,10)\n",
        "        z=time.sleep(timelapse)\n",
        "        time.sleep(z)\n",
        "        nextpage.click()\n",
        "    except:\n",
        "        pass\n",
        "    for (i,j,k,u,t,ad) in zip(review,title,rating,user,timer,address):\n",
        "        review_1.append(i.text.strip(\"READ MORE\"))\n",
        "        title_1.append(j.get_text())\n",
        "        rating_1.append(k.get_text())\n",
        "        user_1.append(u.get_text())\n",
        "        time1.append(t.get_text())\n",
        "        user_address.append(ad.get_text())\n",
        "        model.append(product)"
      ],
      "execution_count": null,
      "outputs": []
    },
    {
      "cell_type": "code",
      "metadata": {
        "id": "0R8p2nyRX630",
        "colab_type": "code",
        "colab": {}
      },
      "source": [
        "import numpy as np"
      ],
      "execution_count": null,
      "outputs": []
    },
    {
      "cell_type": "code",
      "metadata": {
        "id": "R_WcpQ_uX633",
        "colab_type": "code",
        "colab": {}
      },
      "source": [
        "data[\"title\"]=title_1\n",
        "data[\"review\"]=review_1\n",
        "data[\"rating\"]=rating_1\n",
        "data[\"user\"]=user_1\n",
        "data[\"time_of_review\"]=time1\n",
        "data[\"user_address\"]=user_address\n",
        "data[\"Model\"]=model"
      ],
      "execution_count": null,
      "outputs": []
    },
    {
      "cell_type": "code",
      "metadata": {
        "id": "I7XV7aQMX637",
        "colab_type": "code",
        "colab": {},
        "outputId": "a501bbc6-2e78-43ac-c1d2-65676345d7e2"
      },
      "source": [
        "data.head()"
      ],
      "execution_count": null,
      "outputs": [
        {
          "output_type": "execute_result",
          "data": {
            "text/html": [
              "<div>\n",
              "<style scoped>\n",
              "    .dataframe tbody tr th:only-of-type {\n",
              "        vertical-align: middle;\n",
              "    }\n",
              "\n",
              "    .dataframe tbody tr th {\n",
              "        vertical-align: top;\n",
              "    }\n",
              "\n",
              "    .dataframe thead th {\n",
              "        text-align: right;\n",
              "    }\n",
              "</style>\n",
              "<table border=\"1\" class=\"dataframe\">\n",
              "  <thead>\n",
              "    <tr style=\"text-align: right;\">\n",
              "      <th></th>\n",
              "      <th>user</th>\n",
              "      <th>title</th>\n",
              "      <th>review</th>\n",
              "      <th>Model</th>\n",
              "      <th>time_of_review</th>\n",
              "      <th>rating</th>\n",
              "      <th>user_address</th>\n",
              "    </tr>\n",
              "  </thead>\n",
              "  <tbody>\n",
              "    <tr>\n",
              "      <th>0</th>\n",
              "      <td>Aryan  Patil</td>\n",
              "      <td>Wonderful</td>\n",
              "      <td>Bokeh mode is very excellent than any other ha...</td>\n",
              "      <td>Samsung Galaxy M30s Blue 128 Gb Reviews: Lates...</td>\n",
              "      <td>2months ago</td>\n",
              "      <td>5</td>\n",
              "      <td>Certified Buyer, Latur District</td>\n",
              "    </tr>\n",
              "    <tr>\n",
              "      <th>1</th>\n",
              "      <td>Flipkart Customer</td>\n",
              "      <td>Great product</td>\n",
              "      <td>Just awsome product the picture quality is goo...</td>\n",
              "      <td>Samsung Galaxy M30s Blue 128 Gb Reviews: Lates...</td>\n",
              "      <td>5months ago</td>\n",
              "      <td>5</td>\n",
              "      <td>Certified Buyer, North Twenty Four Parganas Di...</td>\n",
              "    </tr>\n",
              "    <tr>\n",
              "      <th>2</th>\n",
              "      <td>Suresh Kumar</td>\n",
              "      <td>Nice product</td>\n",
              "      <td>Samsung galaxy m30s is most useful.But Samsung...</td>\n",
              "      <td>Samsung Galaxy M30s Blue 128 Gb Reviews: Lates...</td>\n",
              "      <td>5months ago</td>\n",
              "      <td>4</td>\n",
              "      <td>Certified Buyer, New Delhi</td>\n",
              "    </tr>\n",
              "    <tr>\n",
              "      <th>3</th>\n",
              "      <td>Rohit Purba</td>\n",
              "      <td>Utterly Disappointed</td>\n",
              "      <td>Not worth for me. i buy for my samsung tv this...</td>\n",
              "      <td>Samsung Galaxy M30s Blue 128 Gb Reviews: Lates...</td>\n",
              "      <td>6months ago</td>\n",
              "      <td>5</td>\n",
              "      <td>Certified Buyer, Rajpura</td>\n",
              "    </tr>\n",
              "    <tr>\n",
              "      <th>4</th>\n",
              "      <td>Flipkart Customer</td>\n",
              "      <td>Highly recommended</td>\n",
              "      <td>BSOLUTELY BEST PHONE, GO FOR THIS PHONELET ME ...</td>\n",
              "      <td>Samsung Galaxy M30s Blue 128 Gb Reviews: Lates...</td>\n",
              "      <td>5months ago</td>\n",
              "      <td>4</td>\n",
              "      <td>Certified Buyer, Muzaffarpur</td>\n",
              "    </tr>\n",
              "  </tbody>\n",
              "</table>\n",
              "</div>"
            ],
            "text/plain": [
              "                user                 title  \\\n",
              "0       Aryan  Patil             Wonderful   \n",
              "1  Flipkart Customer         Great product   \n",
              "2       Suresh Kumar          Nice product   \n",
              "3        Rohit Purba  Utterly Disappointed   \n",
              "4  Flipkart Customer    Highly recommended   \n",
              "\n",
              "                                              review  \\\n",
              "0  Bokeh mode is very excellent than any other ha...   \n",
              "1  Just awsome product the picture quality is goo...   \n",
              "2  Samsung galaxy m30s is most useful.But Samsung...   \n",
              "3  Not worth for me. i buy for my samsung tv this...   \n",
              "4  BSOLUTELY BEST PHONE, GO FOR THIS PHONELET ME ...   \n",
              "\n",
              "                                               Model time_of_review rating  \\\n",
              "0  Samsung Galaxy M30s Blue 128 Gb Reviews: Lates...    2months ago      5   \n",
              "1  Samsung Galaxy M30s Blue 128 Gb Reviews: Lates...    5months ago      5   \n",
              "2  Samsung Galaxy M30s Blue 128 Gb Reviews: Lates...    5months ago      4   \n",
              "3  Samsung Galaxy M30s Blue 128 Gb Reviews: Lates...    6months ago      5   \n",
              "4  Samsung Galaxy M30s Blue 128 Gb Reviews: Lates...    5months ago      4   \n",
              "\n",
              "                                        user_address  \n",
              "0                    Certified Buyer, Latur District  \n",
              "1  Certified Buyer, North Twenty Four Parganas Di...  \n",
              "2                         Certified Buyer, New Delhi  \n",
              "3                           Certified Buyer, Rajpura  \n",
              "4                       Certified Buyer, Muzaffarpur  "
            ]
          },
          "metadata": {
            "tags": []
          },
          "execution_count": 70
        }
      ]
    },
    {
      "cell_type": "code",
      "metadata": {
        "id": "GuEt7y8UX63_",
        "colab_type": "code",
        "colab": {},
        "outputId": "8cd9cc7d-1437-4ca0-8c86-0cae696e24ac"
      },
      "source": [
        "data[\"review\"][5]"
      ],
      "execution_count": null,
      "outputs": [
        {
          "output_type": "execute_result",
          "data": {
            "text/plain": [
              "'I have realized that this phone is full package.But i never feel it has 6000 mah battery.Approx 1 day after full use like 4 hours pubg 2 hours youtube and other work and its battery drain in 12 hours. I was accepting that this phone will with me approx 30 hours. But it was wrong.Even this phone has very great camera, display,ram management, also the look of this phone is superb.The display is slightly curved and the super amoled display make me feel so much great.But in the 14000 rupee and with samsung branding i think this phone is the best.I only disappointed by its battery but i satisfied by samsung effort great work.'"
            ]
          },
          "metadata": {
            "tags": []
          },
          "execution_count": 74
        }
      ]
    },
    {
      "cell_type": "code",
      "metadata": {
        "id": "fv6PCbEWX64D",
        "colab_type": "code",
        "colab": {}
      },
      "source": [
        ""
      ],
      "execution_count": null,
      "outputs": []
    },
    {
      "cell_type": "code",
      "metadata": {
        "id": "rIHhwgQpX64G",
        "colab_type": "code",
        "colab": {}
      },
      "source": [
        "data=pd.DataFrame(columns={\"Model\",\"title\",\"review\",\"rating\",\"user\",\"time_of_review\"})\n",
        "review_1=[]\n",
        "title_1=[]\n",
        "rating_1=[]\n",
        "user_1=[]\n",
        "time1=[]\n",
        "user_address=[]\n",
        "model=[]\n",
        "#url=\"https://www.flipkart.com/samsung-galaxy-m30s-blue-128-gb/product-reviews/itm79f7239a3b086?pid=MOBFSHFBFGNWPSXF&lid=LSTMOBFSHFBFGNWPSXF514GKR&marketplace=FLIPKART\"\n",
        "#driver = webdriver.Chrome(\"C:/Users/Dell/Downloads/chromedriver_win32/chromedriver\")\n",
        "\n",
        "url=\"https://www.flipkart.com/redmi-note-8-neptune-blue-64-gb/product-reviews/itm16c6c50702ff1?pid=MOBFHFFSG69TGSXQ&lid=LSTMOBFHFFSG69TGSXQOEE0LT&marketplace=FLIPKART\"\n",
        "driver = webdriver.Chrome(\"C:/Users/Dell/Downloads/chromedriver_win32/chromedriver\")\n",
        "driver.get(url)\n",
        "html=driver.page_source\n",
        "soup=BeautifulSoup(html,\"lxml\")\n",
        "parent=soup.find( attrs={\"class\":\"_1ypTlJ\"})\n",
        "lastpage=int(parent.find_parent().span.text.split(\" \")[-1]) \n",
        "\n",
        "for j in range(1,lastpage+1):\n",
        "    url=\"https://www.flipkart.com/redmi-note-8-neptune-blue-64-gb/product-reviews/itm16c6c50702ff1?pid=MOBFHFFSG69TGSXQ&lid=LSTMOBFHFFSG69TGSXQOEE0LT&marketplace=FLIPKART&page=\"\n",
        "    url_fin=url+str(j)\n",
        "    driver.get(url_fin)\n",
        "    try:\n",
        "        read_more = driver.find_elements_by_class_name(\"_1EPkIx\")\n",
        "        for i in read_more:\n",
        "            k=np.random.randint(15,20)\n",
        "            time.sleep(k)\n",
        "            i.click()\n",
        "    except:\n",
        "        pass\n",
        "        \n",
        "    html=driver.page_source\n",
        "    soup=BeautifulSoup(html,\"lxml\")\n",
        "    review=soup.find_all(attrs={\"class\":\"qwjRop\"})\n",
        "    title=soup.find_all(\"p\",attrs={\"class\":\"_2xg6Ul\"})\n",
        "    user=soup.find_all(\"p\",attrs={\"class\":\"_3LYOAd _3sxSiS\"})\n",
        "    rating=soup.find_all(attrs={\"class\":\"hGSR34 E_uFuv\"})\n",
        "    address=soup.find_all(attrs={\"class\":\"_19inI8\"})\n",
        "    timer=soup.find_all(attrs={\"class\":\"_3LYOAd\"})[1::2]\n",
        "    timelapse=np.random.randint(15,20)\n",
        "    time.sleep(timelapse)\n",
        "    product=driver.title\n",
        "    try:\n",
        "        nextpage = driver.find_elements_by_class_name(\"_3fVaIS\")\n",
        "        timelapse=np.random.randint(8,14)\n",
        "        z=time.sleep(timelapse)\n",
        "        time.sleep(z)\n",
        "        nextpage.click()\n",
        "    except:\n",
        "        pass\n",
        "    for (i,j,k,u,t,ad) in zip(review,title,rating,user,timer,address):\n",
        "        review_1.append(i.text.strip(\"READ MORE\"))\n",
        "        title_1.append(j.get_text())\n",
        "        rating_1.append(k.get_text())\n",
        "        user_1.append(u.get_text())\n",
        "        time1.append(t.get_text())\n",
        "        user_address.append(ad.get_text())\n",
        "        model.append(product)\n",
        "data[\"title\"]=title_1\n",
        "data[\"review\"]=review_1\n",
        "data[\"rating\"]=rating_1\n",
        "data[\"user\"]=user_1\n",
        "data[\"time_of_review\"]=time1\n",
        "data[\"user_address\"]=user_address\n",
        "data[\"Model\"]=model\n",
        "data_mi=data\n",
        "data_mi.to_csv(\"data_mi.csv\", encoding='utf-8', index=False)"
      ],
      "execution_count": null,
      "outputs": []
    },
    {
      "cell_type": "code",
      "metadata": {
        "id": "sKGy1SMvX64K",
        "colab_type": "code",
        "colab": {}
      },
      "source": [
        "data_mi.to_csv(\"data_mi.csv\", encoding='utf-8', index=False)"
      ],
      "execution_count": null,
      "outputs": []
    },
    {
      "cell_type": "code",
      "metadata": {
        "id": "_9Ee2QhWX64N",
        "colab_type": "code",
        "colab": {},
        "outputId": "35e2208e-e317-4e21-f5e8-062d55213e29"
      },
      "source": [
        "data_mi.shape"
      ],
      "execution_count": null,
      "outputs": [
        {
          "output_type": "execute_result",
          "data": {
            "text/plain": [
              "(1164, 7)"
            ]
          },
          "metadata": {
            "tags": []
          },
          "execution_count": 88
        }
      ]
    },
    {
      "cell_type": "code",
      "metadata": {
        "id": "CYesmvAvX64Q",
        "colab_type": "code",
        "colab": {}
      },
      "source": [
        "data[\"review\"].to_excel(\"reviews_mi.xlsx\")"
      ],
      "execution_count": null,
      "outputs": []
    },
    {
      "cell_type": "code",
      "metadata": {
        "id": "0tQdp58XX64T",
        "colab_type": "code",
        "colab": {},
        "outputId": "7eed8779-e984-4dd7-c746-690e7c6054a9"
      },
      "source": [
        "data"
      ],
      "execution_count": null,
      "outputs": [
        {
          "output_type": "execute_result",
          "data": {
            "text/html": [
              "<div>\n",
              "<style scoped>\n",
              "    .dataframe tbody tr th:only-of-type {\n",
              "        vertical-align: middle;\n",
              "    }\n",
              "\n",
              "    .dataframe tbody tr th {\n",
              "        vertical-align: top;\n",
              "    }\n",
              "\n",
              "    .dataframe thead th {\n",
              "        text-align: right;\n",
              "    }\n",
              "</style>\n",
              "<table border=\"1\" class=\"dataframe\">\n",
              "  <thead>\n",
              "    <tr style=\"text-align: right;\">\n",
              "      <th></th>\n",
              "      <th>user</th>\n",
              "      <th>title</th>\n",
              "      <th>review</th>\n",
              "      <th>Model</th>\n",
              "      <th>time_of_review</th>\n",
              "      <th>rating</th>\n",
              "    </tr>\n",
              "  </thead>\n",
              "  <tbody>\n",
              "  </tbody>\n",
              "</table>\n",
              "</div>"
            ],
            "text/plain": [
              "Empty DataFrame\n",
              "Columns: [user, title, review, Model, time_of_review, rating]\n",
              "Index: []"
            ]
          },
          "metadata": {
            "tags": []
          },
          "execution_count": 83
        }
      ]
    },
    {
      "cell_type": "code",
      "metadata": {
        "id": "Zot9G7AhX64Y",
        "colab_type": "code",
        "colab": {},
        "outputId": "e88f9a23-9672-4fe2-c4e8-ec5f682cef60"
      },
      "source": [
        "review_1"
      ],
      "execution_count": null,
      "outputs": [
        {
          "output_type": "execute_result",
          "data": {
            "text/plain": [
              "['This photo is awesome and little bit value for money this phone charger is  superb . Camra is good bur battery is not good',\n",
              " 'Smooth performance ,nice camera ,value for money ,and very amazingly nice colour, spacialy moonlight white looking like a flagship phone.',\n",
              " 'its amazing phone ...value for money , superb camera and battery quality . i would reffer to all must buy this product . it is safely packed and comes with a transparent cover,charger ....happy to get this thanku filpkart',\n",
              " 'in this amount nice Mobile camara pakka bettery life also good good look nice smooth',\n",
              " 'i give 💯 to the looks ...its just awesome and performance ekdam badiya ..paisa wasoool guys go for it and white color looks just like ______( fill something best )',\n",
              " \"bsolutely superb at this price!Pros: Best LCD screen I've used and it doesn't hurt my eyes. Awesome clarity and viewing angles.Good light photography, but don't expect too much from the Macro modeBattery lasts 1 and a half day on average use, charges ridiculously fast!Will get Android 10 and MIUI 11 updateSturdy build quality despite having glass on both backs. I'm using only a back cover and the Gorilla Glass 5 is enough for regular drops and slips, but use a tempered glass if you wantNo lags except a bit on restart; power efficient processorWaterproof, but only for droplets or small splashesFingerprint scanner never failed meLoud enough speaker for a single room, with good treble and enough bassCall quality is great and all sensors work perfectlyCons: A bit on the heavier sideCamera not good for low light photographyMIUI will always be inferior to Stock AndroidNotch (if you hate it)Weird for one handed usage (personally)\",\n",
              " 'wesome camera giving clear sharp picturesBattery backup is also pretty good and display is very smooth and niceBut the price in flipkart is little more',\n",
              " 'The phone is really awesome and received very fast delivery..Make sure always your logistic will give best to deliver the order asap Thank you flip kart..',\n",
              " 'wesome phone 📱 camera are super perfect battery 🔋is too good',\n",
              " 'Very satisfied with this product. This is really a value for money product. Camera quality is just awesome like a DSLR. Display quality is awesome. Build quality is too good. Just one concern battery quality may be some better quality. But overall this phone is really a smartphone.I love it']"
            ]
          },
          "metadata": {
            "tags": []
          },
          "execution_count": 84
        }
      ]
    },
    {
      "cell_type": "code",
      "metadata": {
        "id": "5red85BZX64b",
        "colab_type": "code",
        "colab": {}
      },
      "source": [
        "rough=pd.read_excel(\"reviews_mi.xlsx\")"
      ],
      "execution_count": null,
      "outputs": []
    },
    {
      "cell_type": "code",
      "metadata": {
        "id": "oLh1ieObX64e",
        "colab_type": "code",
        "colab": {}
      },
      "source": [
        "data_mi_=pd.read_csv(\"data_mi.csv\")"
      ],
      "execution_count": null,
      "outputs": []
    },
    {
      "cell_type": "code",
      "metadata": {
        "id": "zxMH36dPX64j",
        "colab_type": "code",
        "colab": {},
        "outputId": "68e3922e-1363-4651-ec6a-aa8022cf6d70"
      },
      "source": [
        "data_mi_.head()"
      ],
      "execution_count": null,
      "outputs": [
        {
          "output_type": "execute_result",
          "data": {
            "text/html": [
              "<div>\n",
              "<style scoped>\n",
              "    .dataframe tbody tr th:only-of-type {\n",
              "        vertical-align: middle;\n",
              "    }\n",
              "\n",
              "    .dataframe tbody tr th {\n",
              "        vertical-align: top;\n",
              "    }\n",
              "\n",
              "    .dataframe thead th {\n",
              "        text-align: right;\n",
              "    }\n",
              "</style>\n",
              "<table border=\"1\" class=\"dataframe\">\n",
              "  <thead>\n",
              "    <tr style=\"text-align: right;\">\n",
              "      <th></th>\n",
              "      <th>user</th>\n",
              "      <th>title</th>\n",
              "      <th>review</th>\n",
              "      <th>Model</th>\n",
              "      <th>time_of_review</th>\n",
              "      <th>rating</th>\n",
              "      <th>user_address</th>\n",
              "    </tr>\n",
              "  </thead>\n",
              "  <tbody>\n",
              "    <tr>\n",
              "      <th>0</th>\n",
              "      <td>Santosh Thapa</td>\n",
              "      <td>Worth the money</td>\n",
              "      <td>This photo is awesome and little bit value for...</td>\n",
              "      <td>Redmi Note 8 Neptune Blue 64 Gb Reviews: Lates...</td>\n",
              "      <td>27days ago</td>\n",
              "      <td>4</td>\n",
              "      <td>Certified Buyer, Nainital</td>\n",
              "    </tr>\n",
              "    <tr>\n",
              "      <th>1</th>\n",
              "      <td>Bobita Haarika</td>\n",
              "      <td>Fabulous!</td>\n",
              "      <td>Smooth performance ,nice camera ,value for mon...</td>\n",
              "      <td>Redmi Note 8 Neptune Blue 64 Gb Reviews: Lates...</td>\n",
              "      <td>5months ago</td>\n",
              "      <td>5</td>\n",
              "      <td>Certified Buyer, Dergaon</td>\n",
              "    </tr>\n",
              "    <tr>\n",
              "      <th>2</th>\n",
              "      <td>Priti Ghosh</td>\n",
              "      <td>Just wow!</td>\n",
              "      <td>its amazing phone ...value for money , superb ...</td>\n",
              "      <td>Redmi Note 8 Neptune Blue 64 Gb Reviews: Lates...</td>\n",
              "      <td>2months ago</td>\n",
              "      <td>5</td>\n",
              "      <td>Certified Buyer, Katwa</td>\n",
              "    </tr>\n",
              "    <tr>\n",
              "      <th>3</th>\n",
              "      <td>vishnu jith</td>\n",
              "      <td>Classy product</td>\n",
              "      <td>in this amount nice Mobile camara pakka better...</td>\n",
              "      <td>Redmi Note 8 Neptune Blue 64 Gb Reviews: Lates...</td>\n",
              "      <td>7months ago</td>\n",
              "      <td>5</td>\n",
              "      <td>Certified Buyer, Enkakkad</td>\n",
              "    </tr>\n",
              "    <tr>\n",
              "      <th>4</th>\n",
              "      <td>Pramukh  Pandey</td>\n",
              "      <td>Highly recommended</td>\n",
              "      <td>i give 💯 to the looks ...its just awesome and ...</td>\n",
              "      <td>Redmi Note 8 Neptune Blue 64 Gb Reviews: Lates...</td>\n",
              "      <td>8months ago</td>\n",
              "      <td>5</td>\n",
              "      <td>Certified Buyer, Gorakhpur</td>\n",
              "    </tr>\n",
              "  </tbody>\n",
              "</table>\n",
              "</div>"
            ],
            "text/plain": [
              "              user               title  \\\n",
              "0   Santosh Thapa      Worth the money   \n",
              "1   Bobita Haarika           Fabulous!   \n",
              "2      Priti Ghosh           Just wow!   \n",
              "3      vishnu jith      Classy product   \n",
              "4  Pramukh  Pandey  Highly recommended   \n",
              "\n",
              "                                              review  \\\n",
              "0  This photo is awesome and little bit value for...   \n",
              "1  Smooth performance ,nice camera ,value for mon...   \n",
              "2  its amazing phone ...value for money , superb ...   \n",
              "3  in this amount nice Mobile camara pakka better...   \n",
              "4  i give 💯 to the looks ...its just awesome and ...   \n",
              "\n",
              "                                               Model time_of_review  rating  \\\n",
              "0  Redmi Note 8 Neptune Blue 64 Gb Reviews: Lates...     27days ago       4   \n",
              "1  Redmi Note 8 Neptune Blue 64 Gb Reviews: Lates...    5months ago       5   \n",
              "2  Redmi Note 8 Neptune Blue 64 Gb Reviews: Lates...    2months ago       5   \n",
              "3  Redmi Note 8 Neptune Blue 64 Gb Reviews: Lates...    7months ago       5   \n",
              "4  Redmi Note 8 Neptune Blue 64 Gb Reviews: Lates...    8months ago       5   \n",
              "\n",
              "                 user_address  \n",
              "0   Certified Buyer, Nainital  \n",
              "1    Certified Buyer, Dergaon  \n",
              "2      Certified Buyer, Katwa  \n",
              "3   Certified Buyer, Enkakkad  \n",
              "4  Certified Buyer, Gorakhpur  "
            ]
          },
          "metadata": {
            "tags": []
          },
          "execution_count": 99
        }
      ]
    },
    {
      "cell_type": "code",
      "metadata": {
        "id": "_j4NqpeyX64m",
        "colab_type": "code",
        "colab": {}
      },
      "source": [
        ""
      ],
      "execution_count": null,
      "outputs": []
    }
  ]
}